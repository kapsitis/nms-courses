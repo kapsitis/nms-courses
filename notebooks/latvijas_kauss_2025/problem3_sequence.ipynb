{
 "cells": [
  {
   "cell_type": "code",
   "execution_count": 31,
   "id": "1bf75bf9",
   "metadata": {},
   "outputs": [
    {
     "name": "stdout",
     "output_type": "stream",
     "text": [
      "aa[0]=9\n",
      "aa[1]=4\n",
      "aa[2]=10\n",
      "aa[3]=5\n",
      "aa[4]=1\n",
      "aa[5]=11\n",
      "aa[6]=8\n",
      "aa[7]=5\n",
      "aa[8]=1\n",
      "aa[9]=11\n",
      "aa[10]=8\n"
     ]
    }
   ],
   "source": [
    "aa = [9]\n",
    "for i in range(1,11):\n",
    "    next = aa[i-1]*(aa[i-1]+1) - 10\n",
    "    aa.append(next)\n",
    "for i in range(0,11):\n",
    "    print(f'aa[{i}]={aa[i] % 19}')"
   ]
  },
  {
   "cell_type": "code",
   "execution_count": null,
   "id": "fe741431",
   "metadata": {},
   "outputs": [],
   "source": []
  }
 ],
 "metadata": {
  "kernelspec": {
   "display_name": "Python 3 (ipykernel)",
   "language": "python",
   "name": "python3"
  },
  "language_info": {
   "codemirror_mode": {
    "name": "ipython",
    "version": 3
   },
   "file_extension": ".py",
   "mimetype": "text/x-python",
   "name": "python",
   "nbconvert_exporter": "python",
   "pygments_lexer": "ipython3",
   "version": "3.9.12"
  }
 },
 "nbformat": 4,
 "nbformat_minor": 5
}
